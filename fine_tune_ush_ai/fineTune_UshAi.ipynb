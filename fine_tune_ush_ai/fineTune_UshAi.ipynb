{
 "cells": [
  {
   "cell_type": "markdown",
   "metadata": {},
   "source": [
    "**Configuration**"
   ]
  },
  {
   "cell_type": "markdown",
   "metadata": {},
   "source": [
    "Import Libraries"
   ]
  },
  {
   "cell_type": "code",
   "execution_count": 1,
   "metadata": {},
   "outputs": [],
   "source": [
    "import openai \n",
    "import json\n",
    "import jsonlines\n",
    "from dotenv import load_dotenv\n",
    "import os\n",
    "import pandas as pd"
   ]
  },
  {
   "cell_type": "markdown",
   "metadata": {},
   "source": [
    "Configuration"
   ]
  },
  {
   "cell_type": "code",
   "execution_count": 2,
   "metadata": {},
   "outputs": [],
   "source": [
    "# LOAD API KEY\n",
    "load_dotenv()\n",
    "api_key = os.getenv(\"OPENAI_API_KEY\")\n",
    "\n",
    "config = {\n",
    "    \"api_key\": api_key,\n",
    "    \"excel_file\": pd.read_csv(\"./Prompt.csv\"),\n",
    "    \"n_epochs\": 10, \n",
    "    \"model\":\"gpt-3.5-turbo-1106\",\n",
    "    \"max_tokens\": 4096\n",
    "}"
   ]
  },
  {
   "cell_type": "markdown",
   "metadata": {},
   "source": [
    "Create Fine Tuning Data"
   ]
  },
  {
   "cell_type": "code",
   "execution_count": 7,
   "metadata": {},
   "outputs": [
    {
     "name": "stdout",
     "output_type": "stream",
     "text": [
      "{\"0\": {\"subject\": \"Steering Guidance\", \"prompt\": \"You are the best medical annotator that assigns Frog Codes and risk level from applicant data only using the information given.\\n\\nUsing all of the given information, select the USH Codes that identify problems in the following applicant data. Eliminate codes that have less than a 70% chance of being correct. Eliminate codes that are not in the list of USH Codes that you were given in this prompt: \\n\\n<applicant_data>\\n\\nAfter identifying the USH Codes which identify the applicant''s challenges, summarize the applicant''s situation. \\n\\nEstimate ush_risk using system: Risk Chart\\n\\nIf any of the zcode elements in your JSON response have a confidence value less than 0.70 remove it from the JSON response.\\nCount the zcode elements in your JSON answer. If there are 0 zcode elements at this point, then assume USH65.9 is the problem and reevaluate your answer.\\nDO NOT ADD ADDITIONAL COMMENTARY, YOUR ANSWER SHOULD BE JSON ONLY. FOLLOWING THE XSD STRUCTURE PROVIDED ABOVE.\"}, \"1\": {\"subject\": \"USH Codes\", \"prompt\": \"USH List:\\nUSH55.0: Illiteracy and low-level literacy\\nUSH55.1: Schooling unavailable and unattainable\\nUSH55.2: Failed school examinations\\nUSH55.3: Underachievement in school\\nUSH55.4: Educational maladjustment and discord with teachers and classmates\\nUSH55.5: Less than a high school diploma\\nUSH55.6: Problems related to health literacy\\nUSH55.8: Other problems related to education and literacy\\nUSH55.9: Problems related to education and literacy, unspecified\\nUSH56.0: Unemployment, unspecified\\nUSH56.1: Change of job\\nUSH56.2: Threat of job loss\\nUSH56.3: Stressful work schedule\\nUSH56.4: Discord with boss and workmates\\nUSH56.5: Uncongenial work environment\\nUSH56.6: Other physical and mental strain related to work\\nUSH56.81: Sexual harassment on the job\\nUSH56.82: Military deployment status\\nUSH56.89: Other problems related to employment\\nUSH56.9: Unspecified problems related to employment\\nUSH57.0: Occupational exposure to noise\\nUSH57.1: Occupational exposure to radiation\\nUSH57.2: Occupational exposure to dust\\nUSH57.31: Occupational exposure to environmental tobacco smoke\\nUSH57.39: Occupational exposure to other air contaminants\\nUSH57.4: Occupational exposure to toxic agents in agriculture\\nUSH57.5: Occupational exposure to toxic agents in other industries\\nUSH57.6: Occupational exposure to extreme temperature\\nUSH57.7: Occupational exposure to vibration\\nUSH57.8: Occupational exposure to other risk factors\\nUSH57.9: Occupational exposure to unspecified risk factor\\nUSH58.6: Inadequate drinking-water supply\\nUSH58.81: Basic services unavailable in physical environment\\nUSH58.89: Other problems related to physical environment\\nUSH59.00: Homelessness unspecified\\nUSH59.01: Sheltered homelessness\\nUSH59.02: Unsheltered homelessness\\nUSH59.10: Inadequate housing, unspecified\\nUSH59.11: Inadequate housing environmental temperature\\nUSH59.12: Inadequate housing utilities\\nUSH59.19: Other inadequate housing\\nUSH59.2: Discord with neighbors, lodgers and landlord\\nUSH59.3: Problems related to living in residential institution\\nUSH59.41: Food insecurity\\nUSH59.48: Other specified lack of adequate food\\nUSH59.5: Extreme poverty\\nUSH59.6: Low income\\nUSH59.7: Insufficient social insurance and welfare support\\nUSH59.811: Housing instability, housed, with risk of homelessness\\nUSH59.812: Housing instability, housed, homelessness in past 12 months\\nUSH59.819: Housing instability, housed unspecified\\nUSH59.82: Transportation insecurity\\nUSH59.86: Financial insecurity\\nUSH59.87: Material hardship due to limited financial resources, not elsewhere classified\\nUSH59.89: Other problems related to housing and economic circumstances\\nUSH59.9: Problem related to housing and economic circumstances, unspecified\\nUSH60.0: Problems of adjustment to life-cycle transitions\\nUSH60.2: Problems related to living alone\\nUSH60.3: Acculturation difficulty\\nUSH60.4: Social exclusion and rejection\\nUSH60.5: Target of (perceived) adverse discrimination and persecution\\nUSH60.8: Other problems related to social environment\\nUSH60.9: Problem related to social environment, unspecified\\nUSH62.0: Inadequate parental supervision and control\\nUSH62.1: Parental overprotection\\nUSH62.21: Child in welfare custody\\nUSH62.22: Institutional upbringing\\nUSH62.23: Child in custody of non-parental relative\\nUSH62.24: Child in custody of non-relative guardian\\nUSH62.29: Other upbringing away from parents\\nUSH62.3: Hostility towards and scapegoating of child\\nUSH62.6: Inappropriate (excessive) parental pressure\\nUSH62.810: Personal history of physical and sexual abuse in childhood\\nUSH62.811: Personal history of psychological abuse in childhood\\nUSH62.812: Personal history of neglect in childhood\\nUSH62.813: Personal history of forced labor or sexual exploitation in childhood\\nUSH62.814: Personal history of child financial abuse\\nUSH62.815: Personal history of intimate partner abuse in childhood\\nUSH62.819: Personal history of unspecified abuse in childhood\\nUSH62.820: Parent-biological child conflict\\nUSH62.821: Parent-adopted child conflict\\nUSH62.822: Parent-foster child conflict\\nUSH62.823: Parent-step child conflict\\nUSH62.831: Non-parental relative-child conflict\\nUSH62.832: Non-relative guardian-child conflict\\nUSH62.833: Group home staff-child conflict\\nUSH62.890: Parent-child estrangement NEC\\nUSH62.891: Sibling rivalry\\nUSH62.892: Runaway [from current living environment]\\nUSH62.898: Other specified problems related to upbringing\\nUSH62.9: Problem related to upbringing, unspecified\\nUSH63.0: Problems in relationship with spouse or partner\\nUSH63.1: Problems in relationship with in-laws\\nUSH63.31: Absence of family member due to military deployment\\nUSH63.32: Other absence of family member\\nUSH63.4: Disappearance and death of family member\\nUSH63.5: Disruption of family by separation and divorce\\nUSH63.6: Dependent relative needing care at home\\nUSH63.71: Stress on family due to return of family member from military deployment\\nUSH63.72: Alcoholism and drug addiction in family\\nUSH63.79: Other stressful life events affecting family and household\\nUSH63.8: Other specified problems related to primary support group\\nUSH63.9: Problem related to primary support group, unspecified\\nUSH64.0: Problems related to unwanted pregnancy\\nUSH64.1: Problems related to multiparity\\nUSH64.4: Discord with counselors\\nUSH65.0: Conviction in civil and criminal proceedings without imprisonment\\nUSH65.1: Imprisonment and other incarceration\\nUSH65.2: Problems related to release from prison\\nUSH65.3: Problems related to other legal circumstances\\nUSH65.4: Victim of crime and terrorism\\nUSH65.5: Exposure to disaster, war and other hostilities\\nUSH65.8: Other specified problems related to psychosocial circumstances\\nUSH65.9: Problem related to unspecified psychosocial circumstances\"}, \"2\": {\"subject\": \"USH Codes Frequency\", \"prompt\": \"USH Code problems listed from most to least common:\\n[\\n\\\"Problems related to food insecurity\\\",\\n\\\"Problems related to economic circumstances like poverty, insufficient social insurance\\\",\\n\\\"Problems related to housing\\\",\\n\\\"Problems related to employment and unemployment\\\",\\n\\\"Problems related to social environment like feeling lonely or depressed\\\",\\n\\\"Problems related to medical, dental or grocery transportation\\\",\\n\\\"Problems related to education and literacy\\\",\\n\\\"Problems related to physical environment\\\",\\n\\\"Problems related to upbringing and parent/child\\\",\\n\\\"Problems related to primary support group, including family circumstances\\\",\\n\\\"Problems related to psychosocial circumstances\\\",\\n\\\"Problems related to occupational exposure to risk factors\\\"\\n]\"}, \"3\": {\"subject\": \"USH Code Poverty Guidelines\", \"prompt\": \"{\\r\\n\\\"Individuals\\\": 14580,\\r\\n\\\"Family of 2\\\": 19720,\\r\\n\\\"Family of 3\\\": 24860,\\r\\n\\\"Family of 4\\\": 30000,\\r\\n\\\"Family of 5\\\": 35140,\\r\\n\\\"Family of 6\\\": 40280,\\r\\n\\\"Family of 7\\\": 45420,\\r\\n\\\"Family of 8\\\": 50560,\\r\\n\\\"Family of 9+\\\": \\\"Add $5,140 for each extra person\\\"\\r\\n}\"}, \"4\": {\"subject\": \"Risk Chart\", \"prompt\": \"[\\r\\n    {\\r\\n        \\\"Risk\\\": \\\"5:Critical\\\",\\r\\n        \\\"Risk Score Range\\\": \\\"998-1000\\\",\\r\\n        \\\"Definition\\\": \\\"Applicant summary references recent abuse or self-harm or recent hospitalization or sexual trafficking. Additionally, they are at immediate risk of starvation due to lack of access to food.\\\"\\r\\n    },\\r\\n    {\\r\\n        \\\"Risk\\\": \\\"4:Severe\\\",\\r\\n        \\\"Risk Score Range\\\": \\\"801-997\\\",\\r\\n        \\\"Definition\\\": \\\"Severe challenges in housing, poverty, education, healthcare, and social support. Has no income or assets.\\\"\\r\\n    },\\r\\n    {\\r\\n        \\\"Risk\\\": \\\"3:High\\\",\\r\\n        \\\"Risk Score Range\\\": \\\"601-800\\\",\\r\\n        \\\"Definition\\\": \\\"Significant challenges in accessing resources and services.Has some income or assets.\\\"\\r\\n    },\\r\\n    {\\r\\n        \\\"Risk\\\": \\\"2:Moderate\\\",\\r\\n        \\\"Risk Score Range\\\": \\\"401-600\\\",\\r\\n        \\\"Definition\\\": \\\"Intermittent instability impacting well-being. Has stable employment but suffers from occasional resource gaps.\\\"\\r\\n    },\\r\\n    {\\r\\n        \\\"Risk\\\": \\\"1:Low\\\",\\r\\n        \\\"Risk Score Range\\\": \\\"201-400\\\",\\r\\n        \\\"Definition\\\": \\\"Occasional difficulties in accessing resources. Has stable income.\\\"\\r\\n    },\\r\\n    {\\r\\n        \\\"Risk\\\": \\\"0:None\\\",\\r\\n        \\\"Risk Score Range\\\": \\\"0-200\\\",\\r\\n        \\\"Definition\\\": \\\"Secure housing, stable income, education, healthcare, and social support.\\\"\\r\\n    }\\r\\n]\"}, \"5\": {\"subject\": \"Calculations\", \"prompt\": \"let ush_lowest = the low bound of ush_risk  \\r\\nlet ush_delta = the difference between the low and high bounds of ush_risk.  \\r\\nlet ush_codes = the number of USH Codes that you selected  \\r\\nlet ush_risk_intensity = the lesser of  (ush_codes / 10.0) or 0.99  \\r\\nlet ush_offset = ush_delta * ush_risk_intensity\"}, \"6\": {\"subject\": \"JSON\", \"prompt\": \" Respond only with JSON using this special format: \\r\\n{      \\\"summary\\\": \\\"maximum 90 word length summarizing the applicant''s situation\\\",\\r\\n\\t   \\\"risk\\\": {\\\"level\\\": \\\"ush_risk\\\",\\\"range\\\": \\\"ush_risk range\\\",\\\"lowest\\\":\\\"ush_lowest\\\",\\r\\n\\t   \\\"delta\\\":\\\"ush_delta\\\",\\\"codes\\\": \\\"ush_codes\\\",\\r\\n\\t   \\\"intensity\\\": \\\"ush_risk_intensity\\\", \\\"offset\\\":\\\"ush_offset\\\",\\\"score\\\": \\\"ush_lowest+ush_offset\\\"      },      \\r\\n\\t   \\\"risk_rationale\\\": \\\"explain your risk rating\\\",      \\r\\n\\t   \\\"zcode\\\": [\\r\\n\\t   {              \\r\\n\\t\\t\\\"zcode\\\": \\\"USH55.1\\\",              \\r\\n\\t\\t\\\"description\\\": \\\"this is the USH Codes description\\\",              \\r\\n\\t\\t\\\"rationale\\\": \\\"your reason for selecting a USH Code\\\",              \\r\\n\\t\\t\\\"confidence\\\": \\\"a number between 0.00-1.00\\\",              \\r\\n\\t\\t\\\"quote\\\": \\\"write a brief sentence summarizing what the applicant said that supports your conclusion for this code. THIS VALUE MUST FIT INSIDE ONE STRING ONLY. DO NOT BREAK THE PAIR OF QUOTATIONS.\\\"     \\r\\n\\t\\t}   \\r\\n\\t\\t\\t]}\\r\\n\\t\\t\\t\\r\\nFormat the JSON output to match this XSD JSON format (provided below).\\r\\n<?xml version=\\\"1.0\\\" encoding=\\\"UTF-8\\\"?>\\r\\n<xs:schema xmlns:xs=\\\"http://www.w3.org/2001/XMLSchema\\\">\\r\\n  <xs:element name=\\\"json\\\">\\r\\n    <xs:complexType>\\r\\n      <xs:sequence>\\r\\n        <xs:element name=\\\"summary\\\" type=\\\"xs:string\\\"/>\\r\\n        <xs:element name=\\\"risk\\\" type=\\\"RiskType\\\"/>\\r\\n        <xs:element name=\\\"risk_rationale\\\" type=\\\"xs:string\\\"/>\\r\\n        <xs:element name=\\\"zcode\\\" type=\\\"ZCodeType\\\" minOccurs=\\\"0\\\" maxOccurs=\\\"unbounded\\\"/>\\r\\n      </xs:sequence>\\r\\n    </xs:complexType>\\r\\n  </xs:element>\\r\\n\\r\\n  <xs:complexType name=\\\"RiskType\\\">\\r\\n    <xs:sequence>\\r\\n      <xs:element name=\\\"level\\\" type=\\\"xs:string\\\"/>\\r\\n      <xs:element name=\\\"range\\\" type=\\\"xs:string\\\"/>\\r\\n      <xs:element name=\\\"lowest\\\" type=\\\"xs:string\\\"/>\\r\\n      <xs:element name=\\\"delta\\\" type=\\\"xs:string\\\"/>\\r\\n      <xs:element name=\\\"codes\\\" type=\\\"xs:string\\\"/>\\r\\n      <xs:element name=\\\"intensity\\\" type=\\\"xs:string\\\"/>\\r\\n      <xs:element name=\\\"offset\\\" type=\\\"xs:string\\\"/>\\r\\n      <xs:element name=\\\"score\\\" type=\\\"xs:string\\\"/>\\r\\n    </xs:sequence>\\r\\n  </xs:complexType>\\r\\n\\r\\n  <xs:complexType name=\\\"ZCodeType\\\">\\r\\n    <xs:sequence>\\r\\n      <xs:element name=\\\"zcode\\\" type=\\\"xs:string\\\"/>\\r\\n      <xs:element name=\\\"description\\\" type=\\\"xs:string\\\"/>\\r\\n      <xs:element name=\\\"rationale\\\" type=\\\"xs:string\\\"/>\\r\\n      <xs:element name=\\\"confidence\\\" type=\\\"xs:decimal\\\"/>\\r\\n      <xs:element name=\\\"quote\\\" type=\\\"xs:string\\\"/>\\r\\n    </xs:sequence>\\r\\n  </xs:complexType>\\r\\n\\r\\n</xs:schema>\"}}\n"
     ]
    }
   ],
   "source": [
    "# CREATE DATA FRAME\n",
    "csv = pd.read_csv(\"./Prompt.csv\")\n",
    "df = pd.DataFrame(csv)\n",
    "\n",
    "# print(df.head())\n",
    "\n",
    "def create_training_data(data_frame):\n",
    "    training_data = []\n",
    "    result_dictionary = {}\n",
    "\n",
    "    for subject , prompt in data_frame.iterrows():\n",
    "        result_dictionary[subject] = prompt.to_dict()\n",
    "    \n",
    "    result_dictionary = json.dumps(result_dictionary)\n",
    "    print(result_dictionary)\n",
    "\n",
    "    # for item in data_frame.index:\n",
    "    #     system_message = {\n",
    "    #         \"role\": \"system\", \n",
    "    #         \"content\":item\n",
    "    #     }\n",
    "\n",
    "    #     training_data.append(system_message)\n",
    "\n",
    "    # print(training_data)\n",
    "\n",
    "create_training_data(df)\n",
    "\n",
    "pd.set_option('display.max_colwidth', None)\n",
    "pd.set_option('display.max_rows', None)\n",
    "\n"
   ]
  },
  {
   "cell_type": "markdown",
   "metadata": {},
   "source": [
    "**Create JSONL File for Training**"
   ]
  },
  {
   "cell_type": "code",
   "execution_count": 4,
   "metadata": {},
   "outputs": [],
   "source": [
    "def convert_list_to_jsonl(dictionary_data, jsonl_file_name):\n",
    "    json_file = jsonl_file_name + \".jsonl\""
   ]
  },
  {
   "cell_type": "markdown",
   "metadata": {},
   "source": [
    "**Create Fine Tuning Job**"
   ]
  },
  {
   "cell_type": "code",
   "execution_count": 5,
   "metadata": {},
   "outputs": [
    {
     "ename": "TypeError",
     "evalue": "'module' object is not callable",
     "output_type": "error",
     "traceback": [
      "\u001b[1;31m---------------------------------------------------------------------------\u001b[0m",
      "\u001b[1;31mTypeError\u001b[0m                                 Traceback (most recent call last)",
      "Cell \u001b[1;32mIn[5], line 2\u001b[0m\n\u001b[0;32m      1\u001b[0m \u001b[38;5;66;03m# ESTABLISH CONNECTION\u001b[39;00m\n\u001b[1;32m----> 2\u001b[0m client \u001b[38;5;241m=\u001b[39m \u001b[43mopenai\u001b[49m\u001b[43m(\u001b[49m\u001b[43mapi_key\u001b[49m\u001b[38;5;241;43m=\u001b[39;49m\u001b[43mconfig\u001b[49m\u001b[43m[\u001b[49m\u001b[38;5;124;43m\"\u001b[39;49m\u001b[38;5;124;43mapi_key\u001b[39;49m\u001b[38;5;124;43m\"\u001b[39;49m\u001b[43m]\u001b[49m\u001b[43m)\u001b[49m\n\u001b[0;32m      4\u001b[0m \u001b[38;5;66;03m# UPDATE .env FILE WITH API KEY\u001b[39;00m\n",
      "\u001b[1;31mTypeError\u001b[0m: 'module' object is not callable"
     ]
    }
   ],
   "source": [
    "# ESTABLISH CONNECTION\n",
    "client = openai(api_key=config[\"api_key\"])\n",
    "\n",
    "# UPDATE .env FILE WITH API KEY"
   ]
  },
  {
   "cell_type": "markdown",
   "metadata": {},
   "source": [
    "Upload Training File"
   ]
  },
  {
   "cell_type": "code",
   "execution_count": null,
   "metadata": {},
   "outputs": [],
   "source": [
    "# Training File\n",
    "fine_tuning_training_file = client.files.create(\n",
    "    file=open(config[\"training_file_name\"] + \".json\", \"rb\"), \n",
    "    purpose='fine-tune'\n",
    ")"
   ]
  },
  {
   "cell_type": "markdown",
   "metadata": {},
   "source": [
    "Create Fine Tuning Job"
   ]
  },
  {
   "cell_type": "code",
   "execution_count": null,
   "metadata": {},
   "outputs": [],
   "source": [
    "fine_tune_job = client.fine_tuning.jobs.create(training_file=fine_tuning_training_file.id,\n",
    "                                               model=config[\"model\"],\n",
    "                                               hyperparameters={n_epochs:config[\"n_epochs\"]})"
   ]
  },
  {
   "cell_type": "markdown",
   "metadata": {},
   "source": [
    "Confirm Fine Tuning Job was Created"
   ]
  },
  {
   "cell_type": "code",
   "execution_count": null,
   "metadata": {},
   "outputs": [],
   "source": [
    "fine_tune_job_details = client.fine_tuning.jobs.retrieve(fine_tune_job.id)\n",
    "print(fine_tune_job_details)"
   ]
  }
 ],
 "metadata": {
  "kernelspec": {
   "display_name": "Python 3",
   "language": "python",
   "name": "python3"
  },
  "language_info": {
   "codemirror_mode": {
    "name": "ipython",
    "version": 3
   },
   "file_extension": ".py",
   "mimetype": "text/x-python",
   "name": "python",
   "nbconvert_exporter": "python",
   "pygments_lexer": "ipython3",
   "version": "3.11.3"
  }
 },
 "nbformat": 4,
 "nbformat_minor": 2
}
