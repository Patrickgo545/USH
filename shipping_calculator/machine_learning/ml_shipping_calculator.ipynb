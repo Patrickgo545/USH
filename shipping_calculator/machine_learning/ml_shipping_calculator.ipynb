{
  "cells": [
    {
      "cell_type": "code",
      "execution_count": null,
      "metadata": {
        "id": "4em9m08xwL7N"
      },
      "outputs": [],
      "source": [
        "import pandas as pd\n",
        "import numpy as np\n",
        "from sklearn.model_selection import train_test_split\n",
        "from sklearn.linear_model import LinearRegression\n",
        "from sklearn import metrics\n",
        "import matplotlib.pyplot as plt"
      ]
    },
    {
      "cell_type": "code",
      "execution_count": null,
      "metadata": {
        "id": "jGkwvYMfxbIj"
      },
      "outputs": [],
      "source": [
        "df = pd.read_csv('/content/drive/MyDrive/Tech/ML Shipping Calculator/Gas Averages/merged_data.csv')"
      ]
    },
    {
      "cell_type": "markdown",
      "metadata": {
        "id": "NAGj5fFxyMrV"
      },
      "source": [
        "Independent Variables\n"
      ]
    },
    {
      "cell_type": "code",
      "execution_count": null,
      "metadata": {
        "id": "2aYEY74mxvvC"
      },
      "outputs": [],
      "source": [
        "X = df[['distance', 'shipment_volume', 'avg_gas_price']]"
      ]
    },
    {
      "cell_type": "markdown",
      "metadata": {
        "id": "epbkW-aKyPX8"
      },
      "source": [
        "Dependent Variable\n"
      ]
    },
    {
      "cell_type": "code",
      "execution_count": null,
      "metadata": {
        "id": "BGpwRLWuyEEz"
      },
      "outputs": [],
      "source": [
        "y = df['quote']"
      ]
    },
    {
      "cell_type": "markdown",
      "metadata": {
        "id": "0hHqV4QmyWvw"
      },
      "source": [
        "Split Dataset into Training set & Test set"
      ]
    },
    {
      "cell_type": "code",
      "execution_count": null,
      "metadata": {
        "id": "oazUB_Y0yaEw"
      },
      "outputs": [],
      "source": [
        "X_train, X_test, y_train, y_test = train_test_split(X,y,test_size=0.2, random_state=0)"
      ]
    },
    {
      "cell_type": "markdown",
      "metadata": {
        "id": "Kh0MFYBaysNH"
      },
      "source": [
        "Training Multiple linear regression model"
      ]
    },
    {
      "cell_type": "code",
      "execution_count": null,
      "metadata": {
        "colab": {
          "base_uri": "https://localhost:8080/",
          "height": 74
        },
        "id": "ze6dbfITywIK",
        "outputId": "e047422f-fe30-4148-97dd-8864054e3729"
      },
      "outputs": [
        {
          "data": {
            "text/html": [
              "<style>#sk-container-id-1 {color: black;background-color: white;}#sk-container-id-1 pre{padding: 0;}#sk-container-id-1 div.sk-toggleable {background-color: white;}#sk-container-id-1 label.sk-toggleable__label {cursor: pointer;display: block;width: 100%;margin-bottom: 0;padding: 0.3em;box-sizing: border-box;text-align: center;}#sk-container-id-1 label.sk-toggleable__label-arrow:before {content: \"▸\";float: left;margin-right: 0.25em;color: #696969;}#sk-container-id-1 label.sk-toggleable__label-arrow:hover:before {color: black;}#sk-container-id-1 div.sk-estimator:hover label.sk-toggleable__label-arrow:before {color: black;}#sk-container-id-1 div.sk-toggleable__content {max-height: 0;max-width: 0;overflow: hidden;text-align: left;background-color: #f0f8ff;}#sk-container-id-1 div.sk-toggleable__content pre {margin: 0.2em;color: black;border-radius: 0.25em;background-color: #f0f8ff;}#sk-container-id-1 input.sk-toggleable__control:checked~div.sk-toggleable__content {max-height: 200px;max-width: 100%;overflow: auto;}#sk-container-id-1 input.sk-toggleable__control:checked~label.sk-toggleable__label-arrow:before {content: \"▾\";}#sk-container-id-1 div.sk-estimator input.sk-toggleable__control:checked~label.sk-toggleable__label {background-color: #d4ebff;}#sk-container-id-1 div.sk-label input.sk-toggleable__control:checked~label.sk-toggleable__label {background-color: #d4ebff;}#sk-container-id-1 input.sk-hidden--visually {border: 0;clip: rect(1px 1px 1px 1px);clip: rect(1px, 1px, 1px, 1px);height: 1px;margin: -1px;overflow: hidden;padding: 0;position: absolute;width: 1px;}#sk-container-id-1 div.sk-estimator {font-family: monospace;background-color: #f0f8ff;border: 1px dotted black;border-radius: 0.25em;box-sizing: border-box;margin-bottom: 0.5em;}#sk-container-id-1 div.sk-estimator:hover {background-color: #d4ebff;}#sk-container-id-1 div.sk-parallel-item::after {content: \"\";width: 100%;border-bottom: 1px solid gray;flex-grow: 1;}#sk-container-id-1 div.sk-label:hover label.sk-toggleable__label {background-color: #d4ebff;}#sk-container-id-1 div.sk-serial::before {content: \"\";position: absolute;border-left: 1px solid gray;box-sizing: border-box;top: 0;bottom: 0;left: 50%;z-index: 0;}#sk-container-id-1 div.sk-serial {display: flex;flex-direction: column;align-items: center;background-color: white;padding-right: 0.2em;padding-left: 0.2em;position: relative;}#sk-container-id-1 div.sk-item {position: relative;z-index: 1;}#sk-container-id-1 div.sk-parallel {display: flex;align-items: stretch;justify-content: center;background-color: white;position: relative;}#sk-container-id-1 div.sk-item::before, #sk-container-id-1 div.sk-parallel-item::before {content: \"\";position: absolute;border-left: 1px solid gray;box-sizing: border-box;top: 0;bottom: 0;left: 50%;z-index: -1;}#sk-container-id-1 div.sk-parallel-item {display: flex;flex-direction: column;z-index: 1;position: relative;background-color: white;}#sk-container-id-1 div.sk-parallel-item:first-child::after {align-self: flex-end;width: 50%;}#sk-container-id-1 div.sk-parallel-item:last-child::after {align-self: flex-start;width: 50%;}#sk-container-id-1 div.sk-parallel-item:only-child::after {width: 0;}#sk-container-id-1 div.sk-dashed-wrapped {border: 1px dashed gray;margin: 0 0.4em 0.5em 0.4em;box-sizing: border-box;padding-bottom: 0.4em;background-color: white;}#sk-container-id-1 div.sk-label label {font-family: monospace;font-weight: bold;display: inline-block;line-height: 1.2em;}#sk-container-id-1 div.sk-label-container {text-align: center;}#sk-container-id-1 div.sk-container {/* jupyter's `normalize.less` sets `[hidden] { display: none; }` but bootstrap.min.css set `[hidden] { display: none !important; }` so we also need the `!important` here to be able to override the default hidden behavior on the sphinx rendered scikit-learn.org. See: https://github.com/scikit-learn/scikit-learn/issues/21755 */display: inline-block !important;position: relative;}#sk-container-id-1 div.sk-text-repr-fallback {display: none;}</style><div id=\"sk-container-id-1\" class=\"sk-top-container\"><div class=\"sk-text-repr-fallback\"><pre>LinearRegression()</pre><b>In a Jupyter environment, please rerun this cell to show the HTML representation or trust the notebook. <br />On GitHub, the HTML representation is unable to render, please try loading this page with nbviewer.org.</b></div><div class=\"sk-container\" hidden><div class=\"sk-item\"><div class=\"sk-estimator sk-toggleable\"><input class=\"sk-toggleable__control sk-hidden--visually\" id=\"sk-estimator-id-1\" type=\"checkbox\" checked><label for=\"sk-estimator-id-1\" class=\"sk-toggleable__label sk-toggleable__label-arrow\">LinearRegression</label><div class=\"sk-toggleable__content\"><pre>LinearRegression()</pre></div></div></div></div></div>"
            ],
            "text/plain": [
              "LinearRegression()"
            ]
          },
          "execution_count": 6,
          "metadata": {},
          "output_type": "execute_result"
        }
      ],
      "source": [
        "regressor = LinearRegression()\n",
        "regressor.fit(X_train,y_train)"
      ]
    },
    {
      "cell_type": "markdown",
      "metadata": {
        "id": "rgDkm2hty6XO"
      },
      "source": [
        "Predicting the Test set results"
      ]
    },
    {
      "cell_type": "code",
      "execution_count": null,
      "metadata": {
        "id": "fooIFImMy84A"
      },
      "outputs": [],
      "source": [
        "y_pred = regressor.predict(X_test)"
      ]
    },
    {
      "cell_type": "markdown",
      "metadata": {
        "id": "yoxe2RFTzCwr"
      },
      "source": [
        "Comparing Actual vs Predicted"
      ]
    },
    {
      "cell_type": "code",
      "execution_count": null,
      "metadata": {
        "colab": {
          "base_uri": "https://localhost:8080/"
        },
        "id": "xrzunGRqzGYK",
        "outputId": "acb32491-c7ec-48b0-ce6f-23efb2219ac6"
      },
      "outputs": [
        {
          "name": "stdout",
          "output_type": "stream",
          "text": [
            "      Actual    Predicted\n",
            "229   389.28   715.038114\n",
            "159  2144.00  1908.878701\n",
            "54    670.64   905.185843\n",
            "208   242.50   133.606400\n",
            "10    968.78  1120.227120\n",
            "272   278.84   257.672810\n",
            "175   951.37  1118.341992\n",
            "255   167.88   130.343422\n",
            "284   532.07   107.156203\n",
            "424   969.78   799.085739\n",
            "21    407.84   709.687560\n",
            "407  2920.76  1881.670242\n",
            "122   225.00   357.076652\n",
            "194  4731.44  1994.244049\n",
            "249   318.88   453.894675\n",
            "259   324.20   499.455617\n",
            "352   967.66   716.835922\n",
            "218   250.00   347.611228\n",
            "316   431.88   543.931221\n",
            "331   250.00   370.617452\n",
            "344   678.33   777.960027\n",
            "190  1375.89  1217.259414\n",
            "378   654.82   731.684897\n",
            "1     878.88   822.456454\n",
            "37    237.50   512.161515\n",
            "134   250.00   494.484942\n",
            "65    412.40   580.484040\n",
            "158  1098.83   968.299594\n",
            "307   395.00    95.259652\n",
            "12    450.00   347.611228\n",
            "303   395.00    95.259652\n",
            "382   675.56   804.495908\n",
            "179   699.72   557.699484\n",
            "318   482.32   360.457564\n",
            "274   117.89   119.182079\n",
            "154  1436.31  1386.340732\n",
            "96    450.00   779.584705\n",
            "315   362.50   219.137436\n",
            "345   873.64   814.701355\n",
            "217   250.00   153.854386\n",
            "384   845.73   988.510785\n",
            "153  1234.79  1172.079169\n",
            "358   721.46   725.495445\n",
            "388  2800.00  1653.608797\n",
            "15    425.76   340.513717\n",
            "278   148.89   127.300383\n",
            "60    411.03   537.789290\n",
            "332   510.45   407.543724\n",
            "418   765.21   774.189608\n",
            "113   445.00   358.700313\n",
            "356   779.51  1461.554955\n",
            "367  1236.94   980.610505\n",
            "6     658.84   940.860387\n",
            "90    781.44   489.675608\n",
            "150  1505.36  1229.419664\n",
            "421  1185.20  1458.291976\n",
            "102   954.52   589.260130\n",
            "76    741.45   377.643021\n",
            "220   415.54   686.956310\n",
            "145  1297.86   923.520400\n",
            "198  1552.44  1144.528292\n",
            "59    237.50   388.923394\n",
            "261   257.98   302.451454\n",
            "364   541.24   863.227364\n",
            "410   650.18   920.045194\n",
            "308   165.00    78.481825\n",
            "78    489.67   205.658284\n",
            "325   525.12   731.734640\n",
            "141  1198.72  1061.436130\n",
            "385   741.82   809.908110\n",
            "155   792.32  1060.108230\n",
            "160   996.68   994.278165\n",
            "107   990.28   901.359257\n",
            "176   965.98  1123.754194\n",
            "340   250.00   486.376932\n",
            "124   575.00   587.033601\n",
            "49    175.00   126.554880\n",
            "52    207.98   395.959257\n",
            "74    477.12   229.591006\n",
            "26    482.81   740.955037\n",
            "45    358.99   286.595976\n",
            "144  1078.34   852.079330\n",
            "4     125.00   134.688841\n",
            "224   350.00   716.182203\n",
            "213   203.33   312.688648\n"
          ]
        }
      ],
      "source": [
        "df = pd.DataFrame({'Actual':y_test, 'Predicted':y_pred})\n",
        "pd.set_option('display.max_rows', None)\n",
        "print(df)\n",
        "\n",
        "#print(df.head())"
      ]
    },
    {
      "cell_type": "code",
      "execution_count": null,
      "metadata": {
        "id": "Y5B7CfviJbVA"
      },
      "outputs": [],
      "source": [
        "# df.to_csv('/content/drive/MyDrive/Tech/ML Shipping Calculator/results')"
      ]
    },
    {
      "cell_type": "markdown",
      "metadata": {
        "id": "rJ8Kb4hKvran"
      },
      "source": [
        "Graph Results"
      ]
    },
    {
      "cell_type": "code",
      "execution_count": null,
      "metadata": {
        "id": "nCSGt8leHdPv"
      },
      "outputs": [],
      "source": [
        "# # Create subplots with 1 row and 2 columns\n",
        "# fig, axs = plt.subplots(1, 2, figsize=(15, 6))\n",
        "\n",
        "# # Plot the 'Actual' values\n",
        "# axs[0].plot(df.index, df['Actual'], label='Actual', marker='o', linestyle='-', color='blue')\n",
        "# axs[0].set_title('Actual Values')\n",
        "# axs[0].set_xlabel('Index')\n",
        "# axs[0].set_ylabel('Values')\n",
        "# axs[0].legend()\n",
        "\n",
        "# # Plot the 'Predicted' values\n",
        "# axs[1].plot(df.index, df['Predicted'], label='Predicted', marker='o', linestyle='-', color='orange')\n",
        "# axs[1].set_title('Predicted Values')\n",
        "# axs[1].set_xlabel('Index')\n",
        "# axs[1].set_ylabel('Values')\n",
        "# axs[1].legend()\n",
        "\n",
        "# # Adjust layout for better spacing\n",
        "# plt.tight_layout()\n",
        "# #plt.show()"
      ]
    },
    {
      "cell_type": "markdown",
      "metadata": {
        "id": "rcsyG1e0vdeR"
      },
      "source": [
        "View Coefficients & How the model is doing overall"
      ]
    },
    {
      "cell_type": "code",
      "execution_count": null,
      "metadata": {
        "colab": {
          "base_uri": "https://localhost:8080/"
        },
        "id": "hAXCBdJCBv_n",
        "outputId": "a8868890-42e5-4905-b3db-df1f5c3b5ae2"
      },
      "outputs": [
        {
          "name": "stdout",
          "output_type": "stream",
          "text": [
            "Intercept (b0): -900.144141022158\n",
            "Coefficients (b1, b2, b3, b4):  [  0.54122023 135.24340879 261.54868438]\n"
          ]
        }
      ],
      "source": [
        "print(\"Intercept (b0):\", regressor.intercept_)\n",
        "print(\"Coefficients (b1, b2, b3, b4): \", regressor.coef_)"
      ]
    },
    {
      "cell_type": "code",
      "execution_count": null,
      "metadata": {
        "colab": {
          "base_uri": "https://localhost:8080/"
        },
        "id": "eAOCFR_2B9OT",
        "outputId": "fb59a3e7-cf57-4757-be89-adf27f80c136"
      },
      "outputs": [
        {
          "name": "stdout",
          "output_type": "stream",
          "text": [
            "Mean Absolute Error:  228.88344033249004\n",
            "Mean Squared Error:  161031.25073230645\n",
            "Root Mean Squared Error:  401.28699297673035\n"
          ]
        }
      ],
      "source": [
        "print(\"Mean Absolute Error: \", metrics.mean_absolute_error(y_test, y_pred))\n",
        "print(\"Mean Squared Error: \", metrics.mean_squared_error(y_test, y_pred))\n",
        "print(\"Root Mean Squared Error: \", np.sqrt(metrics.mean_squared_error(y_test, y_pred)))"
      ]
    },
    {
      "cell_type": "code",
      "execution_count": null,
      "metadata": {
        "id": "r5CpjHMKE-JI"
      },
      "outputs": [],
      "source": []
    }
  ],
  "metadata": {
    "colab": {
      "provenance": []
    },
    "kernelspec": {
      "display_name": "Python 3",
      "name": "python3"
    },
    "language_info": {
      "name": "python"
    }
  },
  "nbformat": 4,
  "nbformat_minor": 0
}
