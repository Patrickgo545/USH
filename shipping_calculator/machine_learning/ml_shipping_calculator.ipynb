{
  "cells": [
    {
      "cell_type": "markdown",
      "metadata": {},
      "source": [
        "**Import Depencencies**"
      ]
    },
    {
      "cell_type": "code",
      "execution_count": 207,
      "metadata": {},
      "outputs": [],
      "source": [
        "# %pip install pandas as pd\n",
        "# %pip install numpy as np\n",
        "# %pip install scikit-learn\n",
        "# %pip install matplotlib.pyplot as plt\n",
        "# %pip install seaborn"
      ]
    },
    {
      "cell_type": "code",
      "execution_count": 208,
      "metadata": {
        "id": "4em9m08xwL7N"
      },
      "outputs": [],
      "source": [
        "import pandas as pd\n",
        "import numpy as np\n",
        "from sklearn.model_selection import train_test_split\n",
        "from sklearn.linear_model import LinearRegression\n",
        "from sklearn import metrics\n",
        "import matplotlib.pyplot as plt\n",
        "import seaborn as sns\n",
        "import re\n"
      ]
    },
    {
      "cell_type": "markdown",
      "metadata": {},
      "source": [
        "**Create DataFrame**"
      ]
    },
    {
      "cell_type": "code",
      "execution_count": 209,
      "metadata": {},
      "outputs": [],
      "source": [
        "#ADD FUNCTIONS\n",
        "\n",
        "import difflib\n",
        "\n",
        "\n",
        "# IS MAJOR CITY FUNCTION - SHIPMENTS DF\n",
        "def isMajorCity(city):\n",
        "    majorCities = [\"new york\", \"nyc\", \"ny\", \"chicago\", \"san francisco\", \"san fran\", \"los angeles\", \"la\"]\n",
        "    \n",
        "    closest_match = difflib.get_close_matches(city, majorCities)\n",
        "    if closest_match and closest_match[0] == city.lower():\n",
        "         return True\n",
        "\n",
        "    return False\n",
        "\n",
        "# MAJOR CITY MULTIPLIER AMOUNT - DF\n",
        "def majorCityMultiplierAmount(isMajorCity, oldCalculatorAmount):\n",
        "     if isMajorCity == True:\n",
        "          result = (oldCalculatorAmount * 0.25) / 2\n",
        "          return result\n",
        "     \n",
        "     else:\n",
        "          return 0\n",
        "\n",
        "# APPEND SHIPMENTS DF\n",
        "# shipments_df['is major city'] = shipments_df['HP City'].str.lower().apply(isMajorCity)"
      ]
    },
    {
      "cell_type": "markdown",
      "metadata": {},
      "source": [
        "Import CSVs"
      ]
    },
    {
      "cell_type": "code",
      "execution_count": 210,
      "metadata": {},
      "outputs": [],
      "source": [
        "# SHIPPING DASHBOARD CSV\n",
        "shipments_df = pd.read_csv(\"shipments_2023.csv\")\n",
        "# shipments_df['is major city'] = shipments_df['HP City'].str.lower().apply(isMajorCity)\n",
        "\n",
        "# GAS PRICE AVERAGES CSV\n",
        "monthly_gas_averages = pd.read_csv(\"./gas_averages - U.S._All_Grades_All_Formulations_Retail_Gasoline_Prices (2) (1).csv\")\n",
        "\n",
        "# CONVERT DATE COLUMN IN SHIPMENTS_DS TO DATETIME\n",
        "shipments_df['Project Date'] = pd.to_datetime(shipments_df['Project Date'], format='%Y-%m-%d')\n",
        "\n",
        "# ADJUST PROJECT DATE TO MATCH MONTHLY GAS AVG & MERGE\n",
        "shipments_df['month_year'] = shipments_df['Project Date'].dt.month.astype(str) + '/' + shipments_df['Project Date'].dt.year.astype(str)\n",
        "shipments_df = pd.merge(shipments_df, monthly_gas_averages, how='left', left_on='month_year', right_on='Month', suffixes=('_shipments', '_gas_averages'))\n",
        "shipments_df = shipments_df.rename(columns={'U.S. All Grades All Formulations Retail Gasoline Prices Dollars per Gallon': 'avg_gas_price'})"
      ]
    },
    {
      "cell_type": "markdown",
      "metadata": {},
      "source": [
        "Create Data Frame - LTL DATA ONLY"
      ]
    },
    {
      "cell_type": "code",
      "execution_count": 211,
      "metadata": {},
      "outputs": [
        {
          "ename": "SyntaxError",
          "evalue": "invalid syntax (1257496952.py, line 31)",
          "output_type": "error",
          "traceback": [
            "\u001b[1;36m  Cell \u001b[1;32mIn[211], line 31\u001b[1;36m\u001b[0m\n\u001b[1;33m    df['shipment on a weekend'] =\u001b[0m\n\u001b[1;37m                                  ^\u001b[0m\n\u001b[1;31mSyntaxError\u001b[0m\u001b[1;31m:\u001b[0m invalid syntax\n"
          ]
        }
      ],
      "source": [
        "# CONVERT DATE COLUMN IN SHIPMENTS_DS TO DATETIME\n",
        "shipments_df['Project Date'] = pd.to_datetime(shipments_df['Project Date'], format='%Y-%m-%d')\n",
        "\n",
        "# MERGE NATIONAL GAS PRICE AVERAGES WITH PROJECT DATE\n",
        "shipments_df['month_year'] = shipments_df['Project Date'].dt.month.astype(str) + '/' + shipments_df['Project Date'].dt.year.astype(str)\n",
        "shipments_df = pd.merge(shipments_df, monthly_gas_averages, how='left', left_on='month_year', right_on='Month')\n",
        "\n",
        "# OUTBOUND\n",
        "outbound_columns = ['Load In Date & Time', 'Outbound # of Pallets', 'Outbound Total Weight (in lbs)', 'Outbound Type of Truck', 'Price Quoted for Outbound', 'One Way Distance To/From Warehouse', 'U.S. All Grades All Formulations Retail Gasoline Prices Dollars per Gallon', 'HP City']\n",
        "outbound_df = shipments_df[outbound_columns].copy()\n",
        "outbound_df = outbound_df[outbound_df['Outbound Type of Truck'] == 'LTL']\n",
        "\n",
        "# INBOUND\n",
        "inbound_columns = ['Load Out Date & Time', 'Return # of Pallets', 'Return Total Weight', 'Return Type of Truck', 'Price Quoted for Return', 'One Way Distance To/From Warehouse', 'U.S. All Grades All Formulations Retail Gasoline Prices Dollars per Gallon', 'HP City']\n",
        "inbound_df = shipments_df[inbound_columns].copy()\n",
        "inbound_df = inbound_df[inbound_df['Return Type of Truck'] == 'LTL']\n",
        "\n",
        "# CLEAN UP DATES IN OUTBOUND & INBOUND DF\n",
        "date_pattern = r'(\\d{1,2}/\\d{1,2}/\\d{2,4})'\n",
        "outbound_df['Load In Date - Scrubbed'] = pd.to_datetime(outbound_df['Load In Date & Time'].str.extract(date_pattern)[0], format='%m/%d/%y')\n",
        "inbound_df['Load Out Date - Scrubbed'] = pd.to_datetime(inbound_df['Load Out Date & Time'].str.extract(date_pattern)[0], format='%m/%d/%y')\n",
        "\n",
        "#CREATE WORKING DF\n",
        "df = pd.DataFrame()\n",
        "df['pallets'] = pd.concat([outbound_df['Outbound # of Pallets'], inbound_df['Return # of Pallets']], ignore_index=True)\n",
        "df['weight'] = pd.concat([outbound_df['Outbound Total Weight (in lbs)'], inbound_df['Return Total Weight']], ignore_index=True)\n",
        "df['distance'] = pd.concat([outbound_df['One Way Distance To/From Warehouse'], inbound_df['One Way Distance To/From Warehouse']], ignore_index=True)\n",
        "df['avg_gas_price'] = pd.concat([outbound_df['U.S. All Grades All Formulations Retail Gasoline Prices Dollars per Gallon'], inbound_df['U.S. All Grades All Formulations Retail Gasoline Prices Dollars per Gallon']], ignore_index=True)\n",
        "df['quote'] = pd.concat([outbound_df['Price Quoted for Outbound'], inbound_df['Price Quoted for Return']], ignore_index=True)\n",
        "df['city'] = pd.concat([outbound_df['HP City'], inbound_df['HP City']], ignore_index=True)\n",
        "# df['shipment on a weekend'] = \n",
        "\n",
        "# CLEAN UP COLUMNS\n",
        "df['weight'] = df['weight'].str.replace(',', '').str.replace(' lbs', '').astype(int)\n",
        "df['distance'] = df['distance'].str.replace(',', '').str.replace(' miles', '').astype(float)\n",
        "df['quote'] = df['quote'].str.replace(\"$\", '').str.replace(',', '').astype(float)\n",
        "df['pallets'] = df['pallets'].astype(float)\n",
        "df = df.dropna(axis=0)\n",
        "\n",
        "# OLD CALCULATOR \n",
        "df[\"Old Calculator\"] = (((df[\"distance\"] * .114 + 105) * df[\"pallets\"]) + 150 + 22.5)\n",
        "df['Old Calculator - %15 & %5 multiplier'] = ((df['Old Calculator'] + (df['Old Calculator'] * 0.15)) * 1.05) \n",
        "df['is major city'] = df['city'].str.lower().apply(isMajorCity)\n",
        "df['Old Calculator - With Buffs'] = np.where(df['is major city'] == True, df['Old Calculator - %15 & %5 multiplier'] * 1.25, df['Old Calculator - %15 & %5 multiplier'])\n",
        "\n",
        "# CLEAN UP DF\n",
        "df.drop(columns=['Old Calculator - %15 & %5 multiplier', 'city', 'is major city'], inplace=True)\n",
        "\n",
        "# SHOW RESULTS\n",
        "# print(df.iloc[:, 0:5])\n",
        "print(df)"
      ]
    },
    {
      "cell_type": "markdown",
      "metadata": {},
      "source": [
        "**Train Model**"
      ]
    },
    {
      "cell_type": "code",
      "execution_count": null,
      "metadata": {
        "id": "2aYEY74mxvvC"
      },
      "outputs": [],
      "source": [
        "# INDEPENDENT VARIABLES\n",
        "X = df[['pallets', 'weight', 'distance', 'avg_gas_price']]\n",
        "\n",
        "# DEPENDENT VARIABLE\n",
        "y = df['quote']\n",
        "\n",
        "# SPLIT DATASET\n",
        "X_train, X_test, y_train, y_test = train_test_split(X,y,test_size=0.2, random_state=0)\n",
        "\n",
        "# TRAINING MODEL\n",
        "regressor = LinearRegression()\n",
        "regressor.fit(X_train,y_train)\n",
        "\n",
        "# VALIDATING MODEL\n",
        "y_pred = regressor.predict(X_test)\n"
      ]
    },
    {
      "cell_type": "markdown",
      "metadata": {
        "id": "yoxe2RFTzCwr"
      },
      "source": [
        "Comparing Actual vs Predicted data points"
      ]
    },
    {
      "cell_type": "code",
      "execution_count": null,
      "metadata": {
        "colab": {
          "base_uri": "https://localhost:8080/"
        },
        "id": "xrzunGRqzGYK",
        "outputId": "acb32491-c7ec-48b0-ce6f-23efb2219ac6"
      },
      "outputs": [],
      "source": [
        "results = pd.DataFrame({'Actual':y_test, 'Predicted':y_pred})\n",
        "\n",
        "print(results.head())"
      ]
    },
    {
      "cell_type": "markdown",
      "metadata": {
        "id": "rJ8Kb4hKvran"
      },
      "source": [
        "**Graph Results**"
      ]
    },
    {
      "cell_type": "code",
      "execution_count": null,
      "metadata": {
        "id": "r5CpjHMKE-JI"
      },
      "outputs": [],
      "source": [
        "results['Old Calculator'] = df['Old Calculator']\n",
        "results['Old Calculator - With Buffs'] = df['Old Calculator - With Buffs']\n",
        "\n",
        "results.sort_index(inplace=True)\n",
        "\n",
        "# MACHINE LEARNING CALCULATOR\n",
        "plt.figure(figsize=(25, 5))\n",
        "plt.plot(results.index, results['Actual'], label='Actual', marker='')\n",
        "plt.plot(results.index, results['Predicted'], label='Predicted', marker='')\n",
        "\n",
        "plt.xlabel('Index (HP)')\n",
        "plt.ylabel('Price $')\n",
        "plt.title('MACHINE LEARNING CALCULATOR')\n",
        "plt.legend()\n",
        "plt.grid(axis='y', linestyle='-', linewidth='0.5', color='gray', alpha=0.75)\n",
        "plt.show()\n",
        "\n",
        "# CURRENT CALCULATOR - WITH BUFFS\n",
        "plt.figure(figsize=(25, 5))\n",
        "plt.plot(results.index, results['Actual'], label='Actual', marker='')\n",
        "plt.plot(results.index, results['Old Calculator - With Buffs'], label='Predicted', marker='', color='green')\n",
        "\n",
        "plt.xlabel('Index (HP)')\n",
        "plt.ylabel('Price $')\n",
        "plt.title('Current Calculator - With Buffs')\n",
        "plt.legend()\n",
        "plt.grid(axis='y', linestyle='-', linewidth='0.5', color='gray', alpha=0.75)\n",
        "plt.show()\n",
        "\n",
        "# CURRENT CALCULATOR\n",
        "plt.figure(figsize=(25, 5))\n",
        "plt.plot(results.index, results['Actual'], label='Actual', marker='')\n",
        "plt.plot(results.index, results['Old Calculator'], label='Predicted', marker='', color='green')\n",
        "\n",
        "plt.xlabel('Index (HP)')\n",
        "plt.ylabel('Price $')\n",
        "plt.title('CURRENT CALCULATOR')\n",
        "plt.legend()\n",
        "plt.grid(axis='y', linestyle='-', linewidth='0.5', color='gray', alpha=0.75)\n",
        "plt.show()\n",
        "\n"
      ]
    },
    {
      "cell_type": "markdown",
      "metadata": {},
      "source": [
        "**Metrics & Coefficients**"
      ]
    },
    {
      "cell_type": "code",
      "execution_count": null,
      "metadata": {},
      "outputs": [],
      "source": [
        "ml = '(ML):      '\n",
        "old = '(CURRENT): '\n",
        "sep = \"\"\"\n",
        "------------------\n",
        "\"\"\"\n",
        "# HEADER\n",
        "print(\"\\n2023 - LTL SHIPMENTS ONLY\")\n",
        "print(sep)\n",
        "\n",
        "# TOTAL ERROR\n",
        "total_error_ML = sum(results['Predicted']) - sum(results['Actual'])\n",
        "total_error_OLD = sum(df['Old Calculator']) - sum(df['quote'])\n",
        "print(\"TOTAL ERROR: \")\n",
        "print(f\"{ml} {total_error_ML:.2f}\")\n",
        "print(f\"{old} {total_error_OLD:.2f}\")\n",
        "print(\"(CURRENT - WITH BUFFS): \", f\"{sum(df['Old Calculator - With Buffs']) - sum(df['quote']):.2f}\")\n",
        "print(sep)\n",
        "\n",
        "# MEAN ABSOLUTE ERROR\n",
        "print(\"MEAN ABSOLUTE ERROR: \")\n",
        "print(f\"{ml} {metrics.mean_absolute_error(results['Actual'], results['Predicted']):.2f}\")\n",
        "print(f\"{old} {metrics.mean_absolute_error(df['quote'], df['Old Calculator']):.2f}\")\n",
        "print(f\"(CURRENT - WITH BUFFS): {metrics.mean_absolute_error(df['quote'], df['Old Calculator - With Buffs']):.2f}\")\n",
        "print(sep)\n",
        "\n",
        "# COEFFICIENTS\n",
        "coefficients = regressor.coef_\n",
        "variable_names = X.columns\n",
        "print('COEFFICIENTS:\\n')\n",
        "print(ml)\n",
        "for variable, coefficient in zip(variable_names, coefficients):\n",
        "    print(f\"{variable}: {coefficient:.2f}\")\n",
        "\n",
        "print('\\n')\n",
        "print(old, '\\ndistance: 0.114')\n",
        "print(sep)\n",
        "\n",
        "# X INTERCEPT\n",
        "print(\"X INTERCEPT: \")\n",
        "print(f\"{ml} {regressor.intercept_:.2f}\")\n",
        "print(old, '150')"
      ]
    },
    {
      "cell_type": "markdown",
      "metadata": {},
      "source": [
        "Best Fit Line Graphs"
      ]
    },
    {
      "cell_type": "code",
      "execution_count": null,
      "metadata": {},
      "outputs": [],
      "source": [
        "y_pred_graphs = regressor.predict(X)\n",
        "\n",
        "for feature in X.columns:\n",
        "\n",
        "    # REMOVE GAS PRICE CHART.. DOESNT MAKE SENSE TO ME\n",
        "    if feature != 'avg_gas_price':\n",
        "        plt.figure(figsize=(8, 6))\n",
        "        sns.scatterplot(x=X[feature], y=y, label=\"Actual\")\n",
        "        \n",
        "        # BEST FIT LINE\n",
        "        sns.regplot(x=X[feature], y=y, line_kws={'color':'red'}, scatter=False)\n",
        "        plt.title(f\"Best Fit Line: {feature} vs. {y.name}\")\n",
        "\n",
        "        # LINEAR REGRESSION\n",
        "        # sns.lineplot(x=X[feature], y=y_pred_graphs, color='red', label=\"Linear Regression\")\n",
        "        # plt.title(f\"Linear Regression: {feature} vs. {y.name}\")\n",
        "\n",
        "        plt.xlabel(feature)\n",
        "        plt.ylabel(y.name)\n",
        "        plt.legend()\n",
        "        plt.show()"
      ]
    },
    {
      "cell_type": "markdown",
      "metadata": {},
      "source": [
        "RESULTS TO CSV"
      ]
    },
    {
      "cell_type": "code",
      "execution_count": null,
      "metadata": {},
      "outputs": [],
      "source": [
        "# INSERT NEW SHIPPING FORMULA RESULTS INTO \n",
        "df['ML Calculator Results'] = ((df['pallets'] * regressor.coef_[0]) + (df['weight'] * regressor.coef_[1]) + (df['distance'] * regressor.coef_[2]) + (df['avg_gas_price'] * regressor.coef_[3])) + regressor.intercept_\n",
        "\n",
        "# TOTAL ERROR \n",
        "totalErrorML =  sum(df['ML Calculator Results']) - sum(df['quote'])\n",
        "totalErrorCurrent = sum(df['Old Calculator']) - sum(df['quote'])\n",
        "\n",
        "\n",
        "# PREP DF FOR CSV\n",
        "\n",
        "df.drop(columns=['pallets', 'weight', 'distance', 'avg_gas_price'], inplace=True)\n",
        "print(df)\n",
        "df.to_csv(\"results.csv\")"
      ]
    },
    {
      "cell_type": "code",
      "execution_count": null,
      "metadata": {},
      "outputs": [],
      "source": []
    }
  ],
  "metadata": {
    "colab": {
      "provenance": []
    },
    "kernelspec": {
      "display_name": "Python 3",
      "name": "python3"
    },
    "language_info": {
      "codemirror_mode": {
        "name": "ipython",
        "version": 3
      },
      "file_extension": ".py",
      "mimetype": "text/x-python",
      "name": "python",
      "nbconvert_exporter": "python",
      "pygments_lexer": "ipython3",
      "version": "3.11.3"
    }
  },
  "nbformat": 4,
  "nbformat_minor": 0
}
