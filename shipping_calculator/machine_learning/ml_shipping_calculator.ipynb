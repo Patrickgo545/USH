{
  "cells": [
    {
      "cell_type": "markdown",
      "metadata": {},
      "source": [
        "**Import Depencencies**"
      ]
    },
    {
      "cell_type": "code",
      "execution_count": 2,
      "metadata": {},
      "outputs": [],
      "source": [
        "# %pip install pandas as pd\n",
        "# %pip install numpy as np\n",
        "# %pip install scikit-learn\n",
        "# %pip install matplotlib.pyplot as plt\n",
        "# %pip install seaborn"
      ]
    },
    {
      "cell_type": "code",
      "execution_count": 3,
      "metadata": {
        "id": "4em9m08xwL7N"
      },
      "outputs": [],
      "source": [
        "import pandas as pd\n",
        "import numpy as np\n",
        "from sklearn.model_selection import train_test_split\n",
        "from sklearn.linear_model import LinearRegression\n",
        "from sklearn import metrics\n",
        "import matplotlib.pyplot as plt\n",
        "import seaborn as sns\n"
      ]
    },
    {
      "cell_type": "markdown",
      "metadata": {},
      "source": [
        "**Create DataFrame**"
      ]
    },
    {
      "cell_type": "markdown",
      "metadata": {},
      "source": [
        "Import CSVs"
      ]
    },
    {
      "cell_type": "code",
      "execution_count": 4,
      "metadata": {},
      "outputs": [],
      "source": [
        "# SHIPPING DASHBOARD CSV\n",
        "shipments_df = pd.read_csv(\"./shipments_2023.csv\")\n",
        "\n",
        "# GAS PRICE AVERAGES CSV\n",
        "monthly_gas_averages = pd.read_csv(\"./gas_averages - U.S._All_Grades_All_Formulations_Retail_Gasoline_Prices (2) (1).csv\")\n",
        "\n",
        "# CONVERT DATE COLUMN IN SHIPMENTS_DS TO DATETIME\n",
        "shipments_df['Project Date'] = pd.to_datetime(shipments_df['Project Date'], format='%Y-%m-%d')\n",
        "\n",
        "# ADJUST PROJECT DATE TO MATCH MONTHLY GAS AVG & MERGE\n",
        "shipments_df['month_year'] = shipments_df['Project Date'].dt.month.astype(str) + '/' + shipments_df['Project Date'].dt.year.astype(str)\n",
        "shipments_df = pd.merge(shipments_df, monthly_gas_averages, how='left', left_on='month_year', right_on='Month', suffixes=('_shipments', '_gas_averages'))\n",
        "shipments_df = shipments_df.rename(columns={'U.S. All Grades All Formulations Retail Gasoline Prices Dollars per Gallon': 'avg_gas_price'})"
      ]
    },
    {
      "cell_type": "markdown",
      "metadata": {},
      "source": [
        "Create Data Frame - LTL DATA ONLY"
      ]
    },
    {
      "cell_type": "code",
      "execution_count": 5,
      "metadata": {},
      "outputs": [
        {
          "name": "stdout",
          "output_type": "stream",
          "text": [
            "     pallets  weight  distance  avg_gas_price    quote\n",
            "0        3.0    4100      89.0          3.445   510.00\n",
            "1        3.0    4000     936.0          3.445   925.17\n",
            "2        3.0    4100     747.0          3.445   921.33\n",
            "3        6.0    8800     799.0          3.445  1656.31\n",
            "4        4.0    5000     960.0          3.445  1198.72\n",
            "..       ...     ...       ...            ...      ...\n",
            "157      3.0    3000     747.0          3.257   941.33\n",
            "158      2.0    1800     907.0          3.257   653.73\n",
            "159      2.0    1000    2200.0          3.257   693.87\n",
            "160      4.0    2800    1832.0          3.257  1299.09\n",
            "161      3.0    2600     955.0          3.257   984.56\n",
            "\n",
            "[159 rows x 5 columns]\n"
          ]
        },
        {
          "ename": "ValueError",
          "evalue": "The truth value of a Series is ambiguous. Use a.empty, a.bool(), a.item(), a.any() or a.all().",
          "output_type": "error",
          "traceback": [
            "\u001b[1;31m---------------------------------------------------------------------------\u001b[0m",
            "\u001b[1;31mValueError\u001b[0m                                Traceback (most recent call last)",
            "\u001b[1;32m~\\AppData\\Local\\Temp\\ipykernel_16080\\3841945826.py\u001b[0m in \u001b[0;36m?\u001b[1;34m()\u001b[0m\n\u001b[0;32m     35\u001b[0m \u001b[1;33m\u001b[0m\u001b[0m\n\u001b[0;32m     36\u001b[0m \u001b[1;31m# SHOW RESULTS\u001b[0m\u001b[1;33m\u001b[0m\u001b[1;33m\u001b[0m\u001b[0m\n\u001b[0;32m     37\u001b[0m \u001b[0mprint\u001b[0m\u001b[1;33m(\u001b[0m\u001b[0mdf\u001b[0m\u001b[1;33m.\u001b[0m\u001b[0miloc\u001b[0m\u001b[1;33m[\u001b[0m\u001b[1;33m:\u001b[0m\u001b[1;33m,\u001b[0m \u001b[1;36m0\u001b[0m\u001b[1;33m:\u001b[0m\u001b[1;36m5\u001b[0m\u001b[1;33m]\u001b[0m\u001b[1;33m)\u001b[0m\u001b[1;33m\u001b[0m\u001b[1;33m\u001b[0m\u001b[0m\n\u001b[0;32m     38\u001b[0m \u001b[1;33m\u001b[0m\u001b[0m\n\u001b[1;32m---> 39\u001b[1;33m \u001b[1;32mif\u001b[0m \u001b[0mdf\u001b[0m\u001b[1;33m[\u001b[0m\u001b[1;34m'distance'\u001b[0m\u001b[1;33m]\u001b[0m \u001b[1;33m<\u001b[0m \u001b[1;36m100\u001b[0m\u001b[1;33m:\u001b[0m\u001b[1;33m\u001b[0m\u001b[1;33m\u001b[0m\u001b[0m\n\u001b[0m\u001b[0;32m     40\u001b[0m     \u001b[0mprint\u001b[0m\u001b[1;33m(\u001b[0m\u001b[0mdf\u001b[0m\u001b[1;33m[\u001b[0m\u001b[1;34m'distance'\u001b[0m\u001b[1;33m]\u001b[0m\u001b[1;33m)\u001b[0m\u001b[1;33m\u001b[0m\u001b[1;33m\u001b[0m\u001b[0m\n",
            "\u001b[1;32mc:\\Users\\patri\\AppData\\Local\\Programs\\Python\\Python311\\Lib\\site-packages\\pandas\\core\\generic.py\u001b[0m in \u001b[0;36m?\u001b[1;34m(self)\u001b[0m\n\u001b[0;32m   1464\u001b[0m     \u001b[1;33m@\u001b[0m\u001b[0mfinal\u001b[0m\u001b[1;33m\u001b[0m\u001b[1;33m\u001b[0m\u001b[0m\n\u001b[0;32m   1465\u001b[0m     \u001b[1;32mdef\u001b[0m \u001b[0m__nonzero__\u001b[0m\u001b[1;33m(\u001b[0m\u001b[0mself\u001b[0m\u001b[1;33m)\u001b[0m \u001b[1;33m->\u001b[0m \u001b[0mNoReturn\u001b[0m\u001b[1;33m:\u001b[0m\u001b[1;33m\u001b[0m\u001b[1;33m\u001b[0m\u001b[0m\n\u001b[1;32m-> 1466\u001b[1;33m         raise ValueError(\n\u001b[0m\u001b[0;32m   1467\u001b[0m             \u001b[1;34mf\"The truth value of a {type(self).__name__} is ambiguous. \"\u001b[0m\u001b[1;33m\u001b[0m\u001b[1;33m\u001b[0m\u001b[0m\n\u001b[0;32m   1468\u001b[0m             \u001b[1;34m\"Use a.empty, a.bool(), a.item(), a.any() or a.all().\"\u001b[0m\u001b[1;33m\u001b[0m\u001b[1;33m\u001b[0m\u001b[0m\n\u001b[0;32m   1469\u001b[0m         )\n",
            "\u001b[1;31mValueError\u001b[0m: The truth value of a Series is ambiguous. Use a.empty, a.bool(), a.item(), a.any() or a.all()."
          ]
        }
      ],
      "source": [
        "# CONVERT DATE COLUMN IN SHIPMENTS_DS TO DATETIME\n",
        "shipments_df['Project Date'] = pd.to_datetime(shipments_df['Project Date'], format='%Y-%m-%d')\n",
        "\n",
        "# MERGE NATIONAL GAS PRICE AVERAGES WITH PROJECT DATE\n",
        "shipments_df['month_year'] = shipments_df['Project Date'].dt.month.astype(str) + '/' + shipments_df['Project Date'].dt.year.astype(str)\n",
        "shipments_df = pd.merge(shipments_df, monthly_gas_averages, how='left', left_on='month_year', right_on='Month')\n",
        "\n",
        "# OUTBOUND\n",
        "outbound_columns = ['Outbound # of Pallets', 'Outbound Total Weight (in lbs)', 'Outbound Type of Truck', 'Price Quoted for Outbound', 'One Way Distance To/From Warehouse', 'U.S. All Grades All Formulations Retail Gasoline Prices Dollars per Gallon']\n",
        "outbound_df = shipments_df[outbound_columns].copy()\n",
        "outbound_df = outbound_df[outbound_df['Outbound Type of Truck'] == 'LTL']\n",
        "\n",
        "# INBOUND\n",
        "inbound_columns = ['Return # of Pallets', 'Return Total Weight', 'Return Type of Truck', 'Price Quoted for Return', 'One Way Distance To/From Warehouse', 'U.S. All Grades All Formulations Retail Gasoline Prices Dollars per Gallon']\n",
        "inbound_df = shipments_df[inbound_columns].copy()\n",
        "inbound_df = inbound_df[inbound_df['Return Type of Truck'] == 'LTL']\n",
        "\n",
        "#CREATE WORKING DF\n",
        "df = pd.DataFrame()\n",
        "df['pallets'] = pd.concat([outbound_df['Outbound # of Pallets'], inbound_df['Return # of Pallets']], ignore_index=True)\n",
        "df['weight'] = pd.concat([outbound_df['Outbound Total Weight (in lbs)'], inbound_df['Return Total Weight']], ignore_index=True)\n",
        "df['distance'] = pd.concat([outbound_df['One Way Distance To/From Warehouse'], inbound_df['One Way Distance To/From Warehouse']], ignore_index=True)\n",
        "df['avg_gas_price'] = pd.concat([outbound_df['U.S. All Grades All Formulations Retail Gasoline Prices Dollars per Gallon'], inbound_df['U.S. All Grades All Formulations Retail Gasoline Prices Dollars per Gallon']], ignore_index=True)\n",
        "df['quote'] = pd.concat([outbound_df['Price Quoted for Outbound'], inbound_df['Price Quoted for Return']], ignore_index=True)\n",
        "\n",
        "# CLEAN UP COLUMNS\n",
        "df['weight'] = df['weight'].str.replace(',', '').str.replace(' lbs', '').astype(int)\n",
        "df['distance'] = df['distance'].str.replace(',', '').str.replace(' miles', '').astype(float)\n",
        "df['quote'] = df['quote'].str.replace(\"$\", '').str.replace(',', '').astype(float)\n",
        "df['pallets'] = df['pallets'].astype(float)\n",
        "df = df.dropna(axis=0)\n",
        "\n",
        "# THROW IN OLD CALCULATOR RESULTS\n",
        "df[\"Old Calculator\"] = ((df[\"distance\"] * .114 + 105) * df[\"pallets\"]) + 150\n",
        "\n",
        "# SHOW RESULTS\n",
        "print(df.iloc[:, 0:5])"
      ]
    },
    {
      "cell_type": "markdown",
      "metadata": {},
      "source": [
        "**Train Model**"
      ]
    },
    {
      "cell_type": "code",
      "execution_count": null,
      "metadata": {
        "id": "2aYEY74mxvvC"
      },
      "outputs": [],
      "source": [
        "# INDEPENDENT VARIABLES\n",
        "X = df[['pallets', 'weight', 'distance', 'avg_gas_price']]\n",
        "\n",
        "# DEPENDENT VARIABLE\n",
        "y = df['quote']\n",
        "\n",
        "# SPLIT DATASET\n",
        "X_train, X_test, y_train, y_test = train_test_split(X,y,test_size=0.2, random_state=0)\n",
        "\n",
        "# TRAINING MODEL\n",
        "regressor = LinearRegression()\n",
        "regressor.fit(X_train,y_train)\n",
        "\n",
        "# VALIDATING MODEL\n",
        "y_pred = regressor.predict(X_test)\n"
      ]
    },
    {
      "cell_type": "markdown",
      "metadata": {
        "id": "yoxe2RFTzCwr"
      },
      "source": [
        "Comparing Actual vs Predicted data points"
      ]
    },
    {
      "cell_type": "code",
      "execution_count": null,
      "metadata": {
        "colab": {
          "base_uri": "https://localhost:8080/"
        },
        "id": "xrzunGRqzGYK",
        "outputId": "acb32491-c7ec-48b0-ce6f-23efb2219ac6"
      },
      "outputs": [],
      "source": [
        "results = pd.DataFrame({'Actual':y_test, 'Predicted':y_pred})\n",
        "\n",
        "print(results.head())"
      ]
    },
    {
      "cell_type": "markdown",
      "metadata": {
        "id": "rJ8Kb4hKvran"
      },
      "source": [
        "**Graph Results**"
      ]
    },
    {
      "cell_type": "code",
      "execution_count": null,
      "metadata": {
        "id": "r5CpjHMKE-JI"
      },
      "outputs": [],
      "source": [
        "results['Old Calculator'] = df['Old Calculator']\n",
        "\n",
        "results.sort_index(inplace=True)\n",
        "\n",
        "# MACHINE LEARNING CALCULATOR\n",
        "plt.figure(figsize=(25, 5))\n",
        "plt.plot(results.index, results['Actual'], label='Actual', marker='')\n",
        "plt.plot(results.index, results['Predicted'], label='Predicted', marker='')\n",
        "\n",
        "plt.xlabel('Index (HP)')\n",
        "plt.ylabel('Price $')\n",
        "plt.title('MACHINE LEARNING CALCULATOR')\n",
        "plt.legend()\n",
        "plt.grid(axis='y', linestyle='-', linewidth='0.5', color='gray', alpha=0.75)\n",
        "plt.show()\n",
        "\n",
        "\n",
        "# CURRENT CALCULATOR\n",
        "plt.figure(figsize=(25, 5))\n",
        "plt.plot(results.index, results['Actual'], label='Actual', marker='')\n",
        "plt.plot(results.index, results['Old Calculator'], label='Predicted', marker='', color='green')\n",
        "\n",
        "plt.xlabel('Index (HP)')\n",
        "plt.ylabel('Price $')\n",
        "plt.title('CURRENT CALCULATOR')\n",
        "plt.legend()\n",
        "plt.grid(axis='y', linestyle='-', linewidth='0.5', color='gray', alpha=0.75)\n",
        "plt.show()\n"
      ]
    },
    {
      "cell_type": "markdown",
      "metadata": {},
      "source": [
        "**Statistics & Coefficients**"
      ]
    },
    {
      "cell_type": "code",
      "execution_count": null,
      "metadata": {},
      "outputs": [],
      "source": [
        "ml = '(ML):      '\n",
        "old = '(CURRENT): '\n",
        "sep = \"\"\"\n",
        "------------------\n",
        "\"\"\"\n",
        "\n",
        "# MEAN ABSOLUTE ERROR\n",
        "print(\"\\nMEAN ABSOLUTE ERROR: \")\n",
        "print(f\"{ml} {metrics.mean_absolute_error(results['Actual'], results['Predicted']):.2f}\")\n",
        "print(f\"{old} {metrics.mean_absolute_error(df['quote'], df['Old Calculator']):.2f}\")\n",
        "print(sep)\n",
        "\n",
        "# TOTAL ERROR\n",
        "total_error_ML = sum(results['Predicted']) - sum(results['Actual'])\n",
        "total_error_OLD = sum(df['Old Calculator']) - sum(df['quote'])\n",
        "print(\"TOTAL ERROR: \")\n",
        "print(f\"{ml} {total_error_ML:.2f}\")\n",
        "print(f\"{old} {total_error_OLD:.2f}\")\n",
        "df['Old Calculator - With 15% Cost Cushion'] = df['Old Calculator'] + (df['Old Calculator'] * 0.15)\n",
        "print(\"(CURRENT WITH 15% COST CUSHION): \", f\"{sum(df['Old Calculator - With 15% Cost Cushion']) - sum(df['quote']):.2f}\")\n",
        "print(sep)\n",
        "\n",
        "# X INTERCEPT\n",
        "print(\"X INTERCEPT: \")\n",
        "print(f\"{ml} {regressor.intercept_:.2f}\")\n",
        "print(old, '150')\n",
        "print(sep)\n",
        "\n",
        "# COEFFICIENTS\n",
        "coefficients = regressor.coef_\n",
        "variable_names = X.columns\n",
        "print('COEFFICIENTS:\\n')\n",
        "print(ml)\n",
        "for variable, coefficient in zip(variable_names, coefficients):\n",
        "    print(f\"{variable}: {coefficient:.2f}\")\n",
        "\n",
        "print('\\n')\n",
        "print(old, '\\ndistance: 0.114')"
      ]
    },
    {
      "cell_type": "markdown",
      "metadata": {},
      "source": [
        "Regression / X.Feature"
      ]
    },
    {
      "cell_type": "code",
      "execution_count": null,
      "metadata": {},
      "outputs": [],
      "source": [
        "y_pred_graphs = regressor.predict(X)\n",
        "\n",
        "for feature in X.columns:\n",
        "\n",
        "    # REMOVE GAS PRICE CHART.. DOESNT MAKE SENSE TO ME\n",
        "    if feature != 'avg_gas_price':\n",
        "        plt.figure(figsize=(8, 6))\n",
        "        sns.scatterplot(x=X[feature], y=y, label=\"Actual\")\n",
        "        \n",
        "        # BEST FIT LINE\n",
        "        sns.regplot(x=X[feature], y=y, line_kws={'color':'red'}, scatter=False)\n",
        "        plt.title(f\"Best Fit Line: {feature} vs. {y.name}\")\n",
        "\n",
        "        # LINEAR REGRESSION\n",
        "        # sns.lineplot(x=X[feature], y=y_pred_graphs, color='red', label=\"Linear Regression\")\n",
        "        # plt.title(f\"Linear Regression: {feature} vs. {y.name}\")\n",
        "\n",
        "        plt.xlabel(feature)\n",
        "        plt.ylabel(y.name)\n",
        "        plt.legend()\n",
        "        plt.show()"
      ]
    }
  ],
  "metadata": {
    "colab": {
      "provenance": []
    },
    "kernelspec": {
      "display_name": "Python 3",
      "name": "python3"
    },
    "language_info": {
      "codemirror_mode": {
        "name": "ipython",
        "version": 3
      },
      "file_extension": ".py",
      "mimetype": "text/x-python",
      "name": "python",
      "nbconvert_exporter": "python",
      "pygments_lexer": "ipython3",
      "version": "3.11.3"
    }
  },
  "nbformat": 4,
  "nbformat_minor": 0
}
